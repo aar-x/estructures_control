{
  "nbformat": 4,
  "nbformat_minor": 0,
  "metadata": {
    "colab": {
      "provenance": []
    },
    "kernelspec": {
      "name": "python3",
      "display_name": "Python 3"
    },
    "language_info": {
      "name": "python"
    }
  },
  "cells": [
    {
      "cell_type": "markdown",
      "source": [
        "Exercici 1\n",
        "L'exercici consisteix a crear una funció que et classifiqui una variable numèrica en funció de l’escala Suspès/Aprovat/Notable/Excel·lent.\n",
        "\n",
        "Recorda que Suspès < 5, Aprovat > 5 i < 7, Notable > 7 i < 9 i Excel·lent > 9."
      ],
      "metadata": {
        "id": "YKrjxuEWsBwe"
      }
    },
    {
      "cell_type": "code",
      "execution_count": null,
      "metadata": {
        "id": "23sqGWKJvW7z",
        "colab": {
          "base_uri": "https://localhost:8080/"
        },
        "outputId": "893eb21f-eeff-4fda-cd91-7315353601a6"
      },
      "outputs": [
        {
          "output_type": "stream",
          "name": "stdout",
          "text": [
            "Introdueix una nota entre 0 i 10:5\n",
            "Aprovat\n"
          ]
        }
      ],
      "source": [
        "def classifica_nota (valor):\n",
        "  if valor < 5:\n",
        "    print('Suspès')\n",
        "  elif valor < 7:\n",
        "    print('Aprovat')\n",
        "  elif valor < 9:\n",
        "    print('Notable')\n",
        "  elif valor <= 10:\n",
        "    print('Excel·lent')\n",
        "\n",
        "valor = -1\n",
        "while not(valor >= 0 and valor <= 10):\n",
        "  valor = float(input (\"Introdueix una nota entre 0 i 10:\"))\n",
        "\n",
        "classifica_nota (valor)"
      ]
    },
    {
      "cell_type": "markdown",
      "source": [
        "Exercici 2 Utilitzant el següent tutorial crea una funció que et pregunti dos números. T’ha de mostrar un missatge dient si el primer és més gran, el segon és més gran o són iguals."
      ],
      "metadata": {
        "id": "vIlKFvC7y0s6"
      }
    },
    {
      "cell_type": "code",
      "source": [
        "def compara_nombres (n1, n2):\n",
        "  if n1 > n2:\n",
        "    print('\\nEl primer nombre: '+str(n1)+', és més gran que el segon: '+str(n2)+'.')\n",
        "  elif n2 > n1:\n",
        "    print('\\nEl segon nombre: '+str(n2)+', és més gran que el primer: '+str(n1)+'.')\n",
        "  elif n1 == n2:\n",
        "    print('\\nEls dos nombres: '+str(n1)+', són iguals'+'.')\n",
        "\n",
        "n1 = 0\n",
        "n2 = 0\n",
        "\n",
        "n1 = input (\"Introdueix el primer nombre: \")\n",
        "n2 = input (\"Introdueix el segon nombre: \")\n",
        "\n",
        "compara_nombres (n1, n2)"
      ],
      "metadata": {
        "colab": {
          "base_uri": "https://localhost:8080/"
        },
        "id": "dUT2Go9dzBqO",
        "outputId": "d7589ad8-3fd5-4e6d-c9cb-0d714d81af1b"
      },
      "execution_count": null,
      "outputs": [
        {
          "output_type": "stream",
          "name": "stdout",
          "text": [
            "Introdueix el primer nombre: 1\n",
            "Introdueix el segon nombre: 5.5\n",
            "\n",
            "El segon nombre: 5.5, és més gran que el primer: 1.\n"
          ]
        }
      ]
    },
    {
      "cell_type": "markdown",
      "source": [
        "Exercici 3 Crea una funció que et pregunti el teu nom, i et demani un número. Si el número és 0, hauria de mostrar un missatge d’error. En cas contrari, hauria de mostrar el nom repetit tants cops com indiqui el número. Per exemple, “Joan Joan Joan”.\n",
        "\n"
      ],
      "metadata": {
        "id": "if4AedGxu2zJ"
      }
    },
    {
      "cell_type": "code",
      "source": [
        "def nom_repetit(nombre, nom):\n",
        "  if nombre > 0:\n",
        "    print((nom+' ')*nombre)\n",
        "  elif nombre == 0:\n",
        "    print(\"Error: el nombre no pot ser 0!\")\n",
        "\n",
        "nom = input(\"Quin és el teu nom de pila: \")\n",
        "nombre = int(input(\"Introdueix un nombre positiu: \"))\n",
        "\n",
        "nom_repetit(nombre, nom)"
      ],
      "metadata": {
        "colab": {
          "base_uri": "https://localhost:8080/"
        },
        "id": "kFyjyZd0u2H_",
        "outputId": "21650331-80c1-4605-9b70-ee98b5892faa"
      },
      "execution_count": 7,
      "outputs": [
        {
          "output_type": "stream",
          "name": "stdout",
          "text": [
            "Quin és el teu nom de pila: Alejandro\n",
            "Introdueix un nombre positiu: 3\n",
            "Alejandro Alejandro Alejandro \n"
          ]
        }
      ]
    },
    {
      "cell_type": "markdown",
      "source": [
        "Exercici 4\n",
        "Crea una funció que donada una llista qualsevol, et digui si és simètrica o no. Si ho és, que et digui quants elements té."
      ],
      "metadata": {
        "id": "Wn__2VvS2OGl"
      }
    },
    {
      "cell_type": "code",
      "source": [
        "import random\n",
        "\n",
        "def simetria():\n",
        "  i = 0\n",
        "  while i < n/2 and llista[i] == llista[n-i-1]:\n",
        "    i += 1\n",
        "\n",
        "  print('\\n', llista, end = '\\n\\n')\n",
        "\n",
        "  if i == (n+1)/2 or i == n/2:\n",
        "    print('La llista és simètrica: '+str(n)+' elements.')\n",
        "  else:\n",
        "    print('La llista no és simètrica.')\n",
        "\n",
        "n = random.sample(range(1, 5), 1)[0]\n",
        "llista = []\n",
        "\n",
        "print(\"Se't demanaran \"+str(n)+' nombres per crear un4\n",
        "a llista.')\n",
        "for i in range(n):\n",
        "  llista.append(int(input('\\nIntrodueix un nombre enter: ')))\n",
        "\n",
        "simetria()\n"
      ],
      "metadata": {
        "colab": {
          "base_uri": "https://localhost:8080/",
          "height": 401
        },
        "id": "72U9haut2OtD",
        "outputId": "d089e3d6-e156-4fcb-bba6-96ee873d1b8f"
      },
      "execution_count": 6,
      "outputs": [
        {
          "name": "stdout",
          "output_type": "stream",
          "text": [
            "Se't demanaran 4 nombres per crear una llista.\n",
            "\n",
            "Introdueix un nombre enter: 1\n",
            "\n",
            "Introdueix un nombre enter: 2\n",
            "\n",
            "Introdueix un nombre enter: 3\n",
            "\n",
            "Introdueix un nombre enter: \n"
          ]
        },
        {
          "output_type": "error",
          "ename": "ValueError",
          "evalue": "ignored",
          "traceback": [
            "\u001b[0;31m---------------------------------------------------------------------------\u001b[0m",
            "\u001b[0;31mValueError\u001b[0m                                Traceback (most recent call last)",
            "\u001b[0;32m<ipython-input-6-f37ebe8b4fc6>\u001b[0m in \u001b[0;36m<cell line: 19>\u001b[0;34m()\u001b[0m\n\u001b[1;32m     18\u001b[0m \u001b[0mprint\u001b[0m\u001b[0;34m(\u001b[0m\u001b[0;34m\"Se't demanaran \"\u001b[0m\u001b[0;34m+\u001b[0m\u001b[0mstr\u001b[0m\u001b[0;34m(\u001b[0m\u001b[0mn\u001b[0m\u001b[0;34m)\u001b[0m\u001b[0;34m+\u001b[0m\u001b[0;34m' nombres per crear una llista.'\u001b[0m\u001b[0;34m)\u001b[0m\u001b[0;34m\u001b[0m\u001b[0;34m\u001b[0m\u001b[0m\n\u001b[1;32m     19\u001b[0m \u001b[0;32mfor\u001b[0m \u001b[0mi\u001b[0m \u001b[0;32min\u001b[0m \u001b[0mrange\u001b[0m\u001b[0;34m(\u001b[0m\u001b[0mn\u001b[0m\u001b[0;34m)\u001b[0m\u001b[0;34m:\u001b[0m\u001b[0;34m\u001b[0m\u001b[0;34m\u001b[0m\u001b[0m\n\u001b[0;32m---> 20\u001b[0;31m   \u001b[0mllista\u001b[0m\u001b[0;34m.\u001b[0m\u001b[0mappend\u001b[0m\u001b[0;34m(\u001b[0m\u001b[0mint\u001b[0m\u001b[0;34m(\u001b[0m\u001b[0minput\u001b[0m\u001b[0;34m(\u001b[0m\u001b[0;34m'\\nIntrodueix un nombre enter: '\u001b[0m\u001b[0;34m)\u001b[0m\u001b[0;34m)\u001b[0m\u001b[0;34m)\u001b[0m\u001b[0;34m\u001b[0m\u001b[0;34m\u001b[0m\u001b[0m\n\u001b[0m\u001b[1;32m     21\u001b[0m \u001b[0;34m\u001b[0m\u001b[0m\n\u001b[1;32m     22\u001b[0m \u001b[0msimetria\u001b[0m\u001b[0;34m(\u001b[0m\u001b[0;34m)\u001b[0m\u001b[0;34m\u001b[0m\u001b[0;34m\u001b[0m\u001b[0m\n",
            "\u001b[0;31mValueError\u001b[0m: invalid literal for int() with base 10: ''"
          ]
        }
      ]
    },
    {
      "cell_type": "markdown",
      "source": [
        "- Exercici 5\n",
        "Crea una funció que donada una llista, et digui quants números coincideixen amb la seva posició. Per exemple [3,4,2,0,2,3,6] el 2 i el 6 coincideixen."
      ],
      "metadata": {
        "id": "UoGDqLnfvrZw"
      }
    },
    {
      "cell_type": "code",
      "source": [
        "import random\n",
        "\n",
        "n = random.sample(range(1, 5), 1)[0]\n",
        "llista = []\n",
        "\n",
        "def coincidencia():\n",
        "  comptador = 0\n",
        "  for x in range (n):\n",
        "    if llista[x] == x+1:\n",
        "      comptador +=1\n",
        "  print('\\n', llista, end = '\\n\\n')\n",
        "  print('Hi ha '+str(comptador)+' nombres que coincideixen amb la seva posició.')\n",
        "\n",
        "print(\"Se't demanaran \"+str(n)+' nombres per crear una llista.')\n",
        "for i in range(n):\n",
        "  llista.append(int(input('\\nIntrodueix un nombre enter: ')))\n",
        "\n",
        "coincidencia()\n"
      ],
      "metadata": {
        "colab": {
          "base_uri": "https://localhost:8080/"
        },
        "id": "hUlub60hWNiK",
        "outputId": "b166cc72-b7f3-431f-ead2-5da78e84bff7"
      },
      "execution_count": 5,
      "outputs": [
        {
          "output_type": "stream",
          "name": "stdout",
          "text": [
            "Se't demanaran 4 nombres per crear una llista.\n",
            "\n",
            "Introdueix un nombre enter: 1\n",
            "\n",
            "Introdueix un nombre enter: 2\n",
            "\n",
            "Introdueix un nombre enter: 3\n",
            "\n",
            "Introdueix un nombre enter: 4\n",
            "\n",
            " [1, 2, 3, 4]\n",
            "\n",
            "Hi ha 4 nombres que coincideixen amb la seva posició.\n"
          ]
        }
      ]
    }
  ]
}